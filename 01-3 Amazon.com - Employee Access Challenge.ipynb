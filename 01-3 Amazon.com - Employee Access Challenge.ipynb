{
 "cells": [
  {
   "cell_type": "markdown",
   "metadata": {},
   "source": [
    "### Supervised categorical encodings"
   ]
  },
  {
   "cell_type": "code",
   "execution_count": 1,
   "metadata": {},
   "outputs": [],
   "source": [
    "import numpy as np\n",
    "import pandas as pd\n",
    "import os"
   ]
  },
  {
   "cell_type": "code",
   "execution_count": 2,
   "metadata": {},
   "outputs": [],
   "source": [
    "train = pd.read_csv(\"data/amazon-employee-access-challenge/train.csv\")\n",
    "test = pd.read_csv(\"data/amazon-employee-access-challenge/test.csv\")"
   ]
  },
  {
   "cell_type": "code",
   "execution_count": 7,
   "metadata": {},
   "outputs": [],
   "source": [
    "target = \"ACTION\"\n",
    "col4train = [x for x in train.columns if x not in [target, \"ROLE_TITLE\"]]\n",
    "y = train[target].values"
   ]
  },
  {
   "cell_type": "code",
   "execution_count": 16,
   "metadata": {},
   "outputs": [],
   "source": [
    "from sklearn.model_selection import StratifiedKFold\n",
    "from sklearn.metrics import roc_auc_score\n",
    "from sklearn.ensemble import ExtraTreesClassifier\n",
    "\n",
    "def get_model():\n",
    "    params = {\n",
    "        \"n_estimators\" : 300,\n",
    "        \"n_jobs\" : 3,\n",
    "        \"random_state\":5436,\n",
    "    }\n",
    "    return ExtraTreesClassifier(**params)"
   ]
  },
  {
   "cell_type": "markdown",
   "metadata": {},
   "source": [
    "### Simple Target Encoding\n",
    "타겟의 평균으로 각 고유값을 인코딩"
   ]
  },
  {
   "cell_type": "code",
   "execution_count": 13,
   "metadata": {},
   "outputs": [],
   "source": [
    "from sklearn.base import BaseEstimator, TransformerMixin\n",
    "class TargetEncoding(BaseEstimator, TransformerMixin):\n",
    "    def __init__(self, columns_names ):\n",
    "        self.columns_names = columns_names\n",
    "        self.learned_values = {}\n",
    "        self.dataset_mean = np.nan\n",
    "    \n",
    "    def fit(self, X, y, **fit_params):\n",
    "        X_ = X.copy()\n",
    "        self.learned_values = {}\n",
    "        X_[\"__target__\"] = y\n",
    "        for c in [x for x in X_.columns if x in self.columns_names]:\n",
    "            self.learned_values[c] = (X_[[c, \"__target__\"]]\n",
    "                                     .groupby(c)[\"__target__\"].mean()\n",
    "                                     .reset_index())\n",
    "        self.dataset_mean = np.mean(y)\n",
    "        return self\n",
    "    \n",
    "    def transform(self, X, **fit_params):\n",
    "        transformed_X = X[self.columns_names].copy()\n",
    "        for c in transformed_X.columns:\n",
    "            transformed_X[c] = (transformed_X[[c]]\n",
    "                               .merge(self.learned_values[c], on = c, how = 'left')\n",
    "                               )[\"__target__\"]\n",
    "            transformed_X = transformed_X.fillna(self.dataset_mean)\n",
    "            return transformed_X\n",
    "        \n",
    "    def fit_transform(self, X, y, **fit_params):\n",
    "        self.fit(X,y)\n",
    "        return self.transform(X)\n",
    "    "
   ]
  },
  {
   "cell_type": "code",
   "execution_count": 18,
   "metadata": {},
   "outputs": [
    {
     "name": "stdout",
     "output_type": "stream",
     "text": [
      "Train AUC score: 1.0000 Valid AUC score: 0.9313, STD: 0.0035\n"
     ]
    }
   ],
   "source": [
    "skf = StratifiedKFold(n_splits=5, random_state=5451, shuffle=True)\n",
    "te = TargetEncoding(columns_names=col4train)\n",
    "X_tr = te.fit_transform(train, y).values\n",
    "\n",
    "scores = []\n",
    "tr_scores = []\n",
    "for train_index, test_index in skf.split(train, y):\n",
    "    train_df, valid_df = X_tr[train_index], X_tr[test_index]\n",
    "    train_y, valid_y = y[train_index], y[test_index]\n",
    "    \n",
    "    model = get_model()\n",
    "    model.fit(train_df, train_y)\n",
    "    \n",
    "    predictions = model.predict_proba(valid_df)[:,1]\n",
    "    scores.append(roc_auc_score(valid_y, predictions))\n",
    "    \n",
    "    train_preds = model.predict_proba(train_df)[:,1]\n",
    "    tr_scores.append(roc_auc_score(train_y, train_preds))\n",
    "    \n",
    "print(\"Train AUC score: {:.4f} Valid AUC score: {:.4f}, STD: {:.4f}\".format(\n",
    "    np.mean(tr_scores), np.mean(scores), np.std(scores)))"
   ]
  },
  {
   "cell_type": "markdown",
   "metadata": {},
   "source": [
    "### Target Encoding Smoothing"
   ]
  },
  {
   "cell_type": "code",
   "execution_count": null,
   "metadata": {},
   "outputs": [],
   "source": []
  },
  {
   "cell_type": "code",
   "execution_count": null,
   "metadata": {},
   "outputs": [],
   "source": []
  },
  {
   "cell_type": "code",
   "execution_count": null,
   "metadata": {},
   "outputs": [],
   "source": []
  }
 ],
 "metadata": {
  "kernelspec": {
   "display_name": "Python 3",
   "language": "python",
   "name": "python3"
  },
  "language_info": {
   "codemirror_mode": {
    "name": "ipython",
    "version": 3
   },
   "file_extension": ".py",
   "mimetype": "text/x-python",
   "name": "python",
   "nbconvert_exporter": "python",
   "pygments_lexer": "ipython3",
   "version": "3.7.3"
  }
 },
 "nbformat": 4,
 "nbformat_minor": 2
}
