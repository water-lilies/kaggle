{
 "cells": [
  {
   "cell_type": "markdown",
   "metadata": {},
   "source": [
    "## End to end solution"
   ]
  },
  {
   "cell_type": "code",
   "execution_count": 1,
   "metadata": {},
   "outputs": [],
   "source": [
    "import numpy as np \n",
    "import pandas as pd\n",
    "import gc\n",
    "import os"
   ]
  },
  {
   "cell_type": "code",
   "execution_count": 2,
   "metadata": {},
   "outputs": [],
   "source": [
    "MJTCP = 32292 #Michael Jordan total career points\n",
    "def assign_rnd_integer(dataset, number_of_times = 5, seed = MJTCP):\n",
    "    new_dataset = pd.DataFrame()\n",
    "    np.random.seed(seed)\n",
    "    for c in dataset.columns:\n",
    "        for i in range(number_of_times):\n",
    "            col_name = c+\"_\"+str(i)\n",
    "            unique_vals = dataset[c].unique()\n",
    "            labels = np.array(list(range(len(unique_vals))))\n",
    "            np.random.shuffle(labels)\n",
    "            mapping = pd.DataFrame({c: unique_vals, col_name: labels})\n",
    "            new_dataset[col_name] = (dataset[[c]]\n",
    "                                     .merge(mapping, on = c, how = 'left')[col_name]\n",
    "                                    ).values\n",
    "    return new_dataset\n"
   ]
  },
  {
   "cell_type": "code",
   "execution_count": 3,
   "metadata": {},
   "outputs": [],
   "source": [
    "from sklearn.decomposition import TruncatedSVD\n",
    "from sklearn.feature_extraction.text import TfidfVectorizer, CountVectorizer\n",
    "\n",
    "def extract_col_interaction(dataset, col1, col2, tfidf = True):\n",
    "    data = dataset.groupby([col1])[col2].agg(lambda x: \" \".join(list([str(y) for y in x])))\n",
    "    if tfidf:\n",
    "        vectorizer = TfidfVectorizer(tokenizer=lambda x: x.split(\" \"))\n",
    "    else:\n",
    "        vectorizer = CountVectorizer(tokenizer=lambda x: x.split(\" \"))\n",
    "    \n",
    "    data_X = vectorizer.fit_transform(data)\n",
    "    dim_red = TruncatedSVD(n_components=1, random_state = 5511)\n",
    "    data_X = dim_red.fit_transform(data_X)\n",
    "    \n",
    "    result = pd.DataFrame()\n",
    "    result[col1] = data.index.values\n",
    "    result[col1+\"_{}_svd\".format(col2)] = data_X.ravel()\n",
    "    return result"
   ]
  },
  {
   "cell_type": "code",
   "execution_count": 4,
   "metadata": {},
   "outputs": [],
   "source": [
    "import itertools\n",
    "def get_col_interactions_svd(dataset, tfidf = True):\n",
    "    new_dataset = pd.DataFrame()\n",
    "    for col1,col2 in itertools.permutations(dataset.columns, 2):\n",
    "        data = extract_col_interaction(dataset, col1,col2, tfidf)\n",
    "        col_name = [x for x in data.columns if \"svd\" in x][0]\n",
    "        new_dataset[col_name] = (dataset[[col1]]\n",
    "                                 .merge(data, on = col1, how = 'left')\n",
    "                                )[col_name]\n",
    "    return new_dataset\n",
    "\n",
    "def get_freq_encoding(dataset):\n",
    "    new_dataset = pd.DataFrame()\n",
    "    for c in dataset.columns:\n",
    "        data = dataset.groupby([c]).size().reset_index()\n",
    "        new_dataset[c+\"_freq\"] = dataset[[c]].merge(data, on = c, how = \"left\")[0]\n",
    "    return new_dataset\n",
    "\n",
    "def transform_dataset(train, test, func, func_params = {}):\n",
    "    dataset = pd.concat([train, test], ignore_index = True)\n",
    "    dataset = func(dataset, **func_params)\n",
    "    if isinstance(dataset, pd.DataFrame):\n",
    "        new_train = dataset.iloc[:train.shape[0],:].reset_index(drop = True)\n",
    "        new_test =  dataset.iloc[train.shape[0]:,:].reset_index(drop = True)\n",
    "    else:\n",
    "        new_train = dataset[:train.shape[0]]\n",
    "        new_test =  dataset[train.shape[0]:]\n",
    "    return new_train, new_test"
   ]
  },
  {
   "cell_type": "code",
   "execution_count": null,
   "metadata": {},
   "outputs": [],
   "source": []
  }
 ],
 "metadata": {
  "kernelspec": {
   "display_name": "Python 3",
   "language": "python",
   "name": "python3"
  },
  "language_info": {
   "codemirror_mode": {
    "name": "ipython",
    "version": 3
   },
   "file_extension": ".py",
   "mimetype": "text/x-python",
   "name": "python",
   "nbconvert_exporter": "python",
   "pygments_lexer": "ipython3",
   "version": "3.8.5"
  }
 },
 "nbformat": 4,
 "nbformat_minor": 2
}
